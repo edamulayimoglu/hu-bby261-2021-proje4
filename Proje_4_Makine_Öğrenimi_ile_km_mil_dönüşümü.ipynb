{
  "nbformat": 4,
  "nbformat_minor": 0,
  "metadata": {
    "colab": {
      "name": "Proje 4: Makine Öğrenimi ile km-mil dönüşümü",
      "provenance": [],
      "collapsed_sections": [],
      "authorship_tag": "ABX9TyP0sAcHOcCPj0vHP7hQ5bOQ",
      "include_colab_link": true
    },
    "kernelspec": {
      "name": "python3",
      "display_name": "Python 3"
    },
    "language_info": {
      "name": "python"
    }
  },
  "cells": [
    {
      "cell_type": "markdown",
      "metadata": {
        "id": "view-in-github",
        "colab_type": "text"
      },
      "source": [
        "<a href=\"https://colab.research.google.com/github/edamulayimoglu/hu-bby261-2021-proje4/blob/main/Proje_4_Makine_%C3%96%C4%9Frenimi_ile_km_mil_d%C3%B6n%C3%BC%C5%9F%C3%BCm%C3%BC.ipynb\" target=\"_parent\"><img src=\"https://colab.research.google.com/assets/colab-badge.svg\" alt=\"Open In Colab\"/></a>"
      ]
    },
    {
      "cell_type": "code",
      "execution_count": 19,
      "metadata": {
        "colab": {
          "base_uri": "https://localhost:8080/",
          "height": 591
        },
        "id": "f43S22oeS6uT",
        "outputId": "9f70cd50-805a-4120-dc19-cc4df325235a"
      },
      "outputs": [
        {
          "output_type": "stream",
          "name": "stdout",
          "text": [
            "Enter the number of estimates in kilometers:374\n",
            "374 number to guess\n",
            "Enter number of repetitions: 9\n",
            "Model 9 it will be repeated  times.\n",
            "-3.0 kilometre = -1.86 mil\n",
            "7.0 kilometre = -4.34 mil\n",
            "4.0 kilometre = 2.48 mil\n",
            "10.0 kilometre = 6.21 mil\n",
            "17.0 kilometre = 10.56 mil\n",
            "25.0 kilometre = 15.53 mil\n",
            "40.0 kilometre = 24.85 mil\n",
            "52.0 kilometre = 32.31 mil\n",
            "76.0 kilometre = 47.22 mil\n",
            "173.0 kilometre = 107.49 mil\n",
            "**Finished training the model.**\n",
            "Preparing your chart.\n",
            "Doğru sayı : 231.88\n",
            "Modelin tahmini : [[284.58047]]\n"
          ]
        },
        {
          "output_type": "display_data",
          "data": {
            "image/png": "[encoded data removed]",
            "text/plain": [
              "<Figure size 432x288 with 1 Axes>"
            ]
          },
          "metadata": {
            "needs_background": "light"
          }
        }
      ],
      "source": [
        "from numpy.core.arrayprint import IntegerFormat\n",
        "import tensorflow as tf\n",
        "import numpy as np\n",
        "import logging\n",
        "import matplotlib.pyplot as plt\n",
        "import time\n",
        "#\n",
        "tahminSayi=int(input(\"Enter the number of estimates in kilometers:\"))\n",
        "print(str(tahminSayi) + \" number to guess\")\n",
        "time.sleep(2)\n",
        "tekrarSayi=int(input(\"Enter number of repetitions: \"))\n",
        "print(\"Model \" + str(tekrarSayi) + \" it will be repeated  times.\")\n",
        "time.sleep(2)\n",
        "\n",
        "logger = tf.get_logger()\n",
        "logger.setLevel(logging.ERROR)\n",
        "\n",
        "km    = np.array([ -3, 7, 4, 10, 17, 25, 40, 52, 76, 173],  dtype=float)\n",
        "mil = np.array([ -1.86, -4.34, 2.48, 6.21, 10.56, 15.53, 24.85, 32.31, 47.22, 107.49],  dtype=float)\n",
        "\n",
        "for i,c in enumerate(km):\n",
        "  print(\"{} kilometre = {} mil\".format(c, mil[i]))\n",
        "\n",
        "l0 = tf.keras.layers.Dense(units=1, input_shape=[1])\n",
        "model = tf.keras.Sequential([l0])\n",
        "model.compile(loss='mean_squared_error',\n",
        "              optimizer=tf.keras.optimizers.Adam(0.1))\n",
        "\n",
        "history = model.fit(km, mil, epochs=tekrarSayi, verbose=False)\n",
        "\n",
        "print(\"**Finished training the model.**\")\n",
        "print(\"Preparing your chart.\")\n",
        "time.sleep(2)\n",
        "\n",
        "plt.xlabel('Epoch Number')\n",
        "plt.ylabel(\"Loss Magnitude\")\n",
        "plt.plot(history.history['loss'])\n",
        "\n",
        "dogruTahmin = float(tahminSayi) * 0.62\n",
        "print(\"Doğru sayı : \" + str(dogruTahmin))\n",
        "tahminSonuc = model.predict([tahminSayi])\n",
        "print(\"Modelin tahmini : \" + str(tahminSonuc))"
      ]
    }
  ]
}